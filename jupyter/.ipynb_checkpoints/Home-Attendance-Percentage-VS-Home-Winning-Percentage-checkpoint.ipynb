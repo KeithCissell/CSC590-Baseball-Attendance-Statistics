{
 "cells": [
  {
   "cell_type": "code",
   "execution_count": 1,
   "metadata": {
    "collapsed": true
   },
   "outputs": [],
   "source": [
    "import csv\n",
    "import numpy\n",
    "import matplotlib.pyplot as plt\n",
    "from scipy.stats.stats import pearsonr\n",
    "%matplotlib inline"
   ]
  },
  {
   "cell_type": "code",
   "execution_count": 2,
   "metadata": {
    "collapsed": true
   },
   "outputs": [],
   "source": [
    "# File names\n",
    "teams_file = \"Data//Teams.csv\"\n",
    "ballparks_file = \"Data//Ballparks.csv\"\n",
    "\n",
    "path = \"Data//Retrosheet//GL\"\n",
    "startyr = 1970\n",
    "endyr = 2016"
   ]
  },
  {
   "cell_type": "code",
   "execution_count": 3,
   "metadata": {
    "collapsed": true
   },
   "outputs": [],
   "source": [
    "# Indicies\n",
    "# game logs\n",
    "teamx, vscorex, hscorex, parkx, attx  = 6, 9, 10, 16, 17\n",
    "\n",
    "# teams_file\n",
    "yrx, teamidx, gx, home_gx, wx, lx = 0, 2, 6, 7, 8, 9\n",
    "team_namex, avg_attx = 40, 42\n",
    "\n",
    "# ballparks\n",
    "park_namex, capx = 1, 5"
   ]
  },
  {
   "cell_type": "code",
   "execution_count": 4,
   "metadata": {
    "collapsed": true
   },
   "outputs": [],
   "source": [
    "def readcsv(fname):\n",
    "    f = open(fname, 'r')\n",
    "    reader = csv.reader(f)\n",
    "    lines = list(reader)\n",
    "    f.close()\n",
    "    return lines"
   ]
  },
  {
   "cell_type": "code",
   "execution_count": 5,
   "metadata": {
    "collapsed": false
   },
   "outputs": [],
   "source": [
    "class Team:\n",
    "    def __init__(self, team, teamid, yr, cap):\n",
    "        self.team = team\n",
    "        self.teamid = teamid\n",
    "        self.year = yr\n",
    "        self.park_capacity = cap\n",
    "        self.avg_att = 0\n",
    "        self.att_pct = 0\n",
    "        self.win_pct = 0\n",
    "        self.games = []\n",
    "    def addGame(self, line):\n",
    "        self.games.append(line)\n",
    "    def setAvgAtt(self):\n",
    "        num_games = len(self.games)\n",
    "        total_att = 0\n",
    "        for i in range(0, num_games):\n",
    "            total_att += int(self.games[i][attx])\n",
    "        self.avg_att = total_att / num_games\n",
    "    def setAttPct(self):\n",
    "        num_games = len(self.games)\n",
    "        actual_att = self.avg_att * num_games\n",
    "        possible_att = self.park_capacity * num_games\n",
    "        self.att_pct = actual_att / possible_att\n",
    "    def win(self, game):\n",
    "        if game[hscorex] > game[vscorex]:\n",
    "            return True\n",
    "        else:\n",
    "            return False\n",
    "    def setWinPct(self):\n",
    "        wins = 0\n",
    "        num_games = len(self.games)\n",
    "        for i in range(0, num_games):\n",
    "            game = self.games[i]\n",
    "            if self.win(game):\n",
    "                wins += 1\n",
    "        self.win_pct = wins / num_games"
   ]
  },
  {
   "cell_type": "code",
   "execution_count": 6,
   "metadata": {
    "collapsed": true
   },
   "outputs": [],
   "source": [
    "def build_teamid_ref(lines):\n",
    "    d = {}\n",
    "    sortedLines = sorted(lines, key=lambda y: y[yrx], reverse=True)\n",
    "    for line in sortedLines:\n",
    "        teamid = line[teamidx]\n",
    "        if teamid not in d:\n",
    "            d[teamid] = line[team_namex]\n",
    "    return d"
   ]
  },
  {
   "cell_type": "code",
   "execution_count": 7,
   "metadata": {
    "collapsed": true
   },
   "outputs": [],
   "source": [
    "def build_park_ref(lines):\n",
    "    d = {}\n",
    "    for line in lines:\n",
    "        park = line[park_namex]\n",
    "        if park not in d:\n",
    "            capacity = line[capx].replace(',','')\n",
    "            d[park] = int(capacity)\n",
    "    return d"
   ]
  },
  {
   "cell_type": "code",
   "execution_count": 8,
   "metadata": {
    "collapsed": false
   },
   "outputs": [],
   "source": [
    "# builds a dictionary -> {year: {team_name: Team, ...}, ...}\n",
    "def build_years_dict():\n",
    "    # create the teamid dictionary for refference\n",
    "    team_lines = readcsv(teams_file)\n",
    "    park_lines = readcsv(ballparks_file)\n",
    "    team_ref = build_teamid_ref(team_lines[1:])\n",
    "    parks_ref = build_park_ref(park_lines[1:])\n",
    "    \n",
    "    years = {}\n",
    "    for yr in range(startyr, (endyr + 1)):\n",
    "        # add year to dict and initialize a dict for teams\n",
    "        years[yr] = {}\n",
    "        # gather game data for year\n",
    "        yr_file = path + str(yr) + \".csv\"\n",
    "        games = readcsv(yr_file)\n",
    "        for game in games:\n",
    "            # add valid data\n",
    "            park = game[parkx]\n",
    "            if park and park in parks_ref:\n",
    "                if game[attx] and int(game[attx]) > 0:\n",
    "                        # check if team is in team dict or not\n",
    "                        teamid = game[teamx]\n",
    "                        team_name = team_ref[teamid]\n",
    "                        if team_name not in years[yr]:\n",
    "                            cap = parks_ref[park]\n",
    "                            years[yr][team_name] = Team(team_name, teamid, yr, cap)\n",
    "                        # add game data to proper team\n",
    "                        years[yr][team_name].addGame(game)\n",
    "\n",
    "    # set attendance and win percentages\n",
    "    for yr in years:\n",
    "        for team in years[yr]:\n",
    "            t = years[yr][team]\n",
    "            t.setAvgAtt()\n",
    "            t.setAttPct()\n",
    "            t.setWinPct()\n",
    "    \n",
    "    return years"
   ]
  },
  {
   "cell_type": "code",
   "execution_count": 9,
   "metadata": {
    "collapsed": false
   },
   "outputs": [],
   "source": [
    "def attendancePct_vs_winningPct(years):\n",
    "    attendancePct = []\n",
    "    winningPct = []\n",
    "    for y in years:\n",
    "        year = years[y]\n",
    "        for t in year:\n",
    "            team = year[t]\n",
    "            attendancePct.append(team.att_pct)\n",
    "            winningPct.append(team.win_pct)\n",
    "    # plot the data\n",
    "    xlabel = \"Attendance Percentage\"\n",
    "    ylabel = \"Winning Percentage\"\n",
    "    plot_data(attendancePct, winningPct, xlabel, ylabel)"
   ]
  },
  {
   "cell_type": "code",
   "execution_count": 10,
   "metadata": {
    "collapsed": false
   },
   "outputs": [],
   "source": [
    "def plot_data(X, Y, xlabel, ylabel):\n",
    "    fig = plt.figure()\n",
    "    ax = plt.axes()\n",
    "    ax.set_xlabel(xlabel)\n",
    "    ax.set_ylabel(ylabel)\n",
    "    title = ylabel + \" VS. \" + xlabel\n",
    "    ax.set_title(title)\n",
    "    ax.plot(X, Y, '.')\n",
    "    \n",
    "    corr = pearsonr(X, Y)\n",
    "    print(\"Correlation:\", round(corr[0] * 100, 2))"
   ]
  },
  {
   "cell_type": "code",
   "execution_count": 12,
   "metadata": {
    "collapsed": false
   },
   "outputs": [],
   "source": [
    "years = build_years_dict()"
   ]
  },
  {
   "cell_type": "code",
   "execution_count": 13,
   "metadata": {
    "collapsed": false
   },
   "outputs": [
    {
     "name": "stdout",
     "output_type": "stream",
     "text": [
      "Correlation: 28.74\n"
     ]
    },
    {
     "data": {
      "image/png": "[encoded data removed]",
      "text/plain": [
       "<matplotlib.figure.Figure at 0x1487e95e208>"
      ]
     },
     "metadata": {},
     "output_type": "display_data"
    }
   ],
   "source": [
    "attendancePct_vs_winningPct(years)"
   ]
  },
  {
   "cell_type": "code",
   "execution_count": null,
   "metadata": {
    "collapsed": true
   },
   "outputs": [],
   "source": []
  }
 ],
 "metadata": {
  "anaconda-cloud": {},
  "kernelspec": {
   "display_name": "Python [conda root]",
   "language": "python",
   "name": "conda-root-py"
  },
  "language_info": {
   "codemirror_mode": {
    "name": "ipython",
    "version": 3
   },
   "file_extension": ".py",
   "mimetype": "text/x-python",
   "name": "python",
   "nbconvert_exporter": "python",
   "pygments_lexer": "ipython3",
   "version": "3.5.2"
  }
 },
 "nbformat": 4,
 "nbformat_minor": 1
}
