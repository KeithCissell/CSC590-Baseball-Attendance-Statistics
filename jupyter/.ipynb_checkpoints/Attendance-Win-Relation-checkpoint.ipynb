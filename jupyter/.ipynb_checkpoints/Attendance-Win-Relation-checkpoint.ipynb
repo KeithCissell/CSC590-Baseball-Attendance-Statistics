{
 "cells": [
  {
   "cell_type": "code",
   "execution_count": 1,
   "metadata": {
    "collapsed": true
   },
   "outputs": [],
   "source": [
    "import csv\n",
    "import numpy\n",
    "import matplotlib.pyplot as plt\n",
    "from scipy.stats.stats import pearsonr\n",
    "%matplotlib inline"
   ]
  },
  {
   "cell_type": "code",
   "execution_count": 2,
   "metadata": {
    "collapsed": true
   },
   "outputs": [],
   "source": [
    "# File names\n",
    "teams_file = \"Data//Teams.csv\"\n",
    "\n",
    "path = \"Data//Retrosheet//GL\"\n",
    "startyr = 1970\n",
    "endyr = 2016"
   ]
  },
  {
   "cell_type": "code",
   "execution_count": 3,
   "metadata": {
    "collapsed": true
   },
   "outputs": [],
   "source": [
    "# Indicies\n",
    "# game logs\n",
    "teamx, vscorex, hscorex, parkx, attx  = 6, 9, 10, 16, 17\n",
    "\n",
    "# teams_file\n",
    "yrx, teamidx, gx, home_gx, wx, lx = 0, 2, 6, 7, 8, 9\n",
    "team_namex, avg_attx = 40, 42"
   ]
  },
  {
   "cell_type": "code",
   "execution_count": 4,
   "metadata": {
    "collapsed": true
   },
   "outputs": [],
   "source": [
    "def readcsv(fname):\n",
    "    f = open(fname, 'r')\n",
    "    reader = csv.reader(f)\n",
    "    lines = list(reader)\n",
    "    f.close()\n",
    "    return lines"
   ]
  },
  {
   "cell_type": "code",
   "execution_count": 5,
   "metadata": {
    "collapsed": true
   },
   "outputs": [],
   "source": [
    "class Team:\n",
    "    def __init__(self, team, teamid, yr):\n",
    "        self.team = team\n",
    "        self.teamid = teamid\n",
    "        self.year = yr\n",
    "        self.avg_att = 0\n",
    "        self.att_std = 0\n",
    "        self.games = []\n",
    "    def addGame(self, line):\n",
    "        self.games.append(line)\n",
    "    def calcStandardDeviation(self):\n",
    "        game_att = []\n",
    "        for g in range(0, len(self.games)):\n",
    "            game = self.games[g]\n",
    "            att = int(game[attx])\n",
    "            game_att.append(att)\n",
    "        std = numpy.std(game_att)\n",
    "        self.att_std = std\n",
    "    def setAvgAtt(self):\n",
    "        num_games = len(self.games)\n",
    "        total_att = 0\n",
    "        for i in range(0, num_games):\n",
    "            total_att += int(self.games[i][attx])\n",
    "        self.avg_att = total_att / num_games\n",
    "    def getAttDeviation(self, game):\n",
    "        deviation = int(game[attx]) - self.avg_att\n",
    "        return deviation\n",
    "    def win(self, game):\n",
    "        if game[hscorex] > game[vscorex]:\n",
    "            return True\n",
    "        else:\n",
    "            return False"
   ]
  },
  {
   "cell_type": "code",
   "execution_count": 6,
   "metadata": {
    "collapsed": true
   },
   "outputs": [],
   "source": [
    "def build_teamid_ref(lines):\n",
    "    d = {}\n",
    "    sortedLines = sorted(lines, key=lambda y: y[yrx], reverse=True)\n",
    "    for line in sortedLines:\n",
    "        teamid = line[teamidx]\n",
    "        if teamid not in d:\n",
    "            d[teamid] = line[team_namex]\n",
    "    return d"
   ]
  },
  {
   "cell_type": "code",
   "execution_count": 7,
   "metadata": {
    "collapsed": false
   },
   "outputs": [],
   "source": [
    "# builds a dictionary -> {year: {team_name: Team, ...}, ...}\n",
    "def build_years_dict():\n",
    "    # create the teamid dictionary for refference\n",
    "    team_lines = readcsv(teams_file)\n",
    "    team_ref = build_teamid_ref(team_lines[1:])\n",
    "    \n",
    "    years = {}\n",
    "    for yr in range(startyr, (endyr + 1)):\n",
    "        # add year to dict and initialize a dict for teams\n",
    "        years[yr] = {}\n",
    "        # gather game data for year\n",
    "        yr_file = path + str(yr) + \".csv\"\n",
    "        games = readcsv(yr_file)\n",
    "        for game in games:\n",
    "            # validate data\n",
    "            if game[attx] and int(game[attx]) > 0:\n",
    "                # check if team is in team dict or not\n",
    "                teamid = game[teamx]\n",
    "                team_name = team_ref[teamid]\n",
    "                if team_name not in years[yr]:\n",
    "                    years[yr][team_name] = Team(team_name, teamid, yr)\n",
    "                # add game data to proper team\n",
    "                years[yr][team_name].addGame(game)\n",
    "                    \n",
    "    # calculate standard deviations of attendance\n",
    "    for yr in years:\n",
    "        for team in years[yr]:\n",
    "            team = years[yr][team]\n",
    "            team.calcStandardDeviation()\n",
    "            team.setAvgAtt()\n",
    "    \n",
    "    return years"
   ]
  },
  {
   "cell_type": "code",
   "execution_count": 17,
   "metadata": {
    "collapsed": false
   },
   "outputs": [],
   "source": [
    "# Analyzes game data to see if high attendance number translate to higher team performance\n",
    "def supported_percentage(years):\n",
    "    supported = 0\n",
    "    games_analyzed = 0\n",
    "    for y in years:\n",
    "        year = years[y]\n",
    "        for t in year:\n",
    "            team = year[t]\n",
    "            for g in range(0, len(team.games)):\n",
    "                game = team.games[g]\n",
    "                att_dev = team.getAttDeviation(game)\n",
    "                # check if high/low attendance translates to win/loss\n",
    "                if abs(att_dev) > team.att_std:\n",
    "                    games_analyzed += 1\n",
    "                    if att_dev > 0 and team.win(game):\n",
    "                        supported += 1\n",
    "                    elif att_dev < 0 and not team.win(game):\n",
    "                        supported += 1\n",
    "    # return the percentage of games that supports: high attendance -> high team performance\n",
    "    preNormalized = (supported / games_analyzed) * 100\n",
    "    pctSupported = (preNormalized - 50) * 2\n",
    "    return round(pctSupported, 2)"
   ]
  },
  {
   "cell_type": "code",
   "execution_count": 18,
   "metadata": {
    "collapsed": false
   },
   "outputs": [],
   "source": [
    "years = build_years_dict()"
   ]
  },
  {
   "cell_type": "code",
   "execution_count": 19,
   "metadata": {
    "collapsed": false
   },
   "outputs": [
    {
     "name": "stdout",
     "output_type": "stream",
     "text": [
      "The relation of high/low attendance to win/loss of game is -2.24 % supported.\n"
     ]
    }
   ],
   "source": [
    "sp = supported_percentage(years)\n",
    "print(\"The relation of high/low attendance to win/loss of game is\", sp, \"% supported.\")"
   ]
  },
  {
   "cell_type": "code",
   "execution_count": null,
   "metadata": {
    "collapsed": true
   },
   "outputs": [],
   "source": []
  }
 ],
 "metadata": {
  "anaconda-cloud": {},
  "kernelspec": {
   "display_name": "Python [conda root]",
   "language": "python",
   "name": "conda-root-py"
  },
  "language_info": {
   "codemirror_mode": {
    "name": "ipython",
    "version": 3
   },
   "file_extension": ".py",
   "mimetype": "text/x-python",
   "name": "python",
   "nbconvert_exporter": "python",
   "pygments_lexer": "ipython3",
   "version": "3.5.2"
  }
 },
 "nbformat": 4,
 "nbformat_minor": 1
}
